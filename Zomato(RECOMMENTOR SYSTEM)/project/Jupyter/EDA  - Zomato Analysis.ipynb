{
 "cells": [
  {
   "attachments": {
    "zomato.png": {
     "image/png": "[encoded data removed]"
    }
   },
   "cell_type": "markdown",
   "id": "528e9462",
   "metadata": {},
   "source": [
    "![zomato.png](attachment:zomato.png)"
   ]
  },
  {
   "cell_type": "markdown",
   "id": "6428f51a",
   "metadata": {},
   "source": [
    " ### EXPLORATORY DATA ANALYSIS"
   ]
  },
  {
   "cell_type": "code",
   "execution_count": 1,
   "id": "eee20e23",
   "metadata": {},
   "outputs": [],
   "source": [
    "import pandas as pd\n",
    "import numpy as np\n",
    "import seaborn as sns\n",
    "import matplotlib.pyplot as plt\n",
    "import pingouin as pg"
   ]
  },
  {
   "cell_type": "code",
   "execution_count": 2,
   "id": "07b7e7c3",
   "metadata": {},
   "outputs": [],
   "source": [
    "zomatodata = pd.read_csv(\"C:/Users/muvee/Desktop/project/Dataset/BangaloreZomatoData-2022.csv\")"
   ]
  },
  {
   "cell_type": "markdown",
   "id": "186089f0",
   "metadata": {},
   "source": [
    "### Test of Reliability"
   ]
  },
  {
   "cell_type": "code",
   "execution_count": 6,
   "id": "d7b875d2",
   "metadata": {},
   "outputs": [
    {
     "name": "stdout",
     "output_type": "stream",
     "text": [
      "the alpha is between the range (0.09437453038614446, array([0.061, 0.126])) is 95% reliable\n"
     ]
    }
   ],
   "source": [
    "# Calculate Cronbach's alpha\n",
    "zomatodata = pd.read_csv(\"C:/Users/muvee/Desktop/project/Dataset/BangaloreZomatoData-2022.csv\")\n",
    "# Select the columns that contain the items or measures of interest\n",
    "item_cols = ['Dinner Reviews', 'Delivery Reviews', 'AverageCost']\n",
    "\n",
    "# Calculate Cronbach's alpha\n",
    "alpha = pg.cronbach_alpha(zomatodata[item_cols])\n",
    "\n",
    "print(f'the alpha is between the range {alpha} is 95% reliable')"
   ]
  },
  {
   "cell_type": "markdown",
   "id": "d7bde21e",
   "metadata": {},
   "source": [
    "### Test of Normality"
   ]
  },
  {
   "cell_type": "code",
   "execution_count": 7,
   "id": "f3df01fb",
   "metadata": {},
   "outputs": [],
   "source": [
    "from scipy.stats import kstest, norm"
   ]
  },
  {
   "cell_type": "code",
   "execution_count": 16,
   "id": "87b05ac7",
   "metadata": {},
   "outputs": [
    {
     "name": "stdout",
     "output_type": "stream",
     "text": [
      "The KS test statistic is 0.7797 with a p-value of 0.0000\n",
      "The data is not normally distributed (reject H0)\n"
     ]
    }
   ],
   "source": [
    "# select columns with numerical data\n",
    "item_cols = ['Dinner Reviews', 'Delivery Reviews', 'AverageCost']\n",
    "data = zomatodata[item_cols].values.flatten()\n",
    "\n",
    "# perform Kolmogorov-Smirnov test\n",
    "stat, p = kstest(data, 'norm')\n",
    "print(f'The KS test statistic is {stat:.4f} with a p-value of {p:.4f}')\n",
    "\n",
    "# interpret the test results\n",
    "alpha = 0.05\n",
    "if p > alpha:\n",
    "    print('The data is normally distributed (fail to reject H0)')\n",
    "else:\n",
    "    print('The data is not normally distributed (reject H0)')\n"
   ]
  },
  {
   "cell_type": "markdown",
   "id": "10df57e0",
   "metadata": {},
   "source": [
    "### Discriptive statistics"
   ]
  },
  {
   "cell_type": "code",
   "execution_count": 29,
   "id": "43dcd3f5",
   "metadata": {},
   "outputs": [
    {
     "data": {
      "text/html": [
       "<div>\n",
       "<style scoped>\n",
       "    .dataframe tbody tr th:only-of-type {\n",
       "        vertical-align: middle;\n",
       "    }\n",
       "\n",
       "    .dataframe tbody tr th {\n",
       "        vertical-align: top;\n",
       "    }\n",
       "\n",
       "    .dataframe thead th {\n",
       "        text-align: right;\n",
       "    }\n",
       "</style>\n",
       "<table border=\"1\" class=\"dataframe\">\n",
       "  <thead>\n",
       "    <tr style=\"text-align: right;\">\n",
       "      <th></th>\n",
       "      <th>IsHomeDelivery</th>\n",
       "      <th>isTakeaway</th>\n",
       "      <th>isIndoorSeating</th>\n",
       "      <th>isVegOnly</th>\n",
       "      <th>Dinner Reviews</th>\n",
       "      <th>Delivery Reviews</th>\n",
       "      <th>AverageCost</th>\n",
       "    </tr>\n",
       "  </thead>\n",
       "  <tbody>\n",
       "    <tr>\n",
       "      <th>count</th>\n",
       "      <td>8923.000000</td>\n",
       "      <td>8923.000000</td>\n",
       "      <td>8923.000000</td>\n",
       "      <td>8923.000000</td>\n",
       "      <td>8923.000000</td>\n",
       "      <td>8923.000000</td>\n",
       "      <td>8923.000000</td>\n",
       "    </tr>\n",
       "    <tr>\n",
       "      <th>mean</th>\n",
       "      <td>0.997871</td>\n",
       "      <td>0.660092</td>\n",
       "      <td>0.442676</td>\n",
       "      <td>0.072285</td>\n",
       "      <td>157.106018</td>\n",
       "      <td>2014.709403</td>\n",
       "      <td>340.225261</td>\n",
       "    </tr>\n",
       "    <tr>\n",
       "      <th>std</th>\n",
       "      <td>0.046098</td>\n",
       "      <td>0.473704</td>\n",
       "      <td>0.496731</td>\n",
       "      <td>0.258974</td>\n",
       "      <td>731.834227</td>\n",
       "      <td>5524.430542</td>\n",
       "      <td>308.338943</td>\n",
       "    </tr>\n",
       "    <tr>\n",
       "      <th>min</th>\n",
       "      <td>0.000000</td>\n",
       "      <td>0.000000</td>\n",
       "      <td>0.000000</td>\n",
       "      <td>0.000000</td>\n",
       "      <td>0.000000</td>\n",
       "      <td>0.000000</td>\n",
       "      <td>50.000000</td>\n",
       "    </tr>\n",
       "    <tr>\n",
       "      <th>25%</th>\n",
       "      <td>1.000000</td>\n",
       "      <td>0.000000</td>\n",
       "      <td>0.000000</td>\n",
       "      <td>0.000000</td>\n",
       "      <td>0.000000</td>\n",
       "      <td>42.000000</td>\n",
       "      <td>150.000000</td>\n",
       "    </tr>\n",
       "    <tr>\n",
       "      <th>50%</th>\n",
       "      <td>1.000000</td>\n",
       "      <td>1.000000</td>\n",
       "      <td>0.000000</td>\n",
       "      <td>0.000000</td>\n",
       "      <td>0.000000</td>\n",
       "      <td>279.000000</td>\n",
       "      <td>250.000000</td>\n",
       "    </tr>\n",
       "    <tr>\n",
       "      <th>75%</th>\n",
       "      <td>1.000000</td>\n",
       "      <td>1.000000</td>\n",
       "      <td>1.000000</td>\n",
       "      <td>0.000000</td>\n",
       "      <td>43.000000</td>\n",
       "      <td>1493.500000</td>\n",
       "      <td>400.000000</td>\n",
       "    </tr>\n",
       "    <tr>\n",
       "      <th>max</th>\n",
       "      <td>1.000000</td>\n",
       "      <td>1.000000</td>\n",
       "      <td>1.000000</td>\n",
       "      <td>1.000000</td>\n",
       "      <td>26500.000000</td>\n",
       "      <td>99600.000000</td>\n",
       "      <td>4200.000000</td>\n",
       "    </tr>\n",
       "  </tbody>\n",
       "</table>\n",
       "</div>"
      ],
      "text/plain": [
       "       IsHomeDelivery   isTakeaway  isIndoorSeating    isVegOnly  \\\n",
       "count     8923.000000  8923.000000      8923.000000  8923.000000   \n",
       "mean         0.997871     0.660092         0.442676     0.072285   \n",
       "std          0.046098     0.473704         0.496731     0.258974   \n",
       "min          0.000000     0.000000         0.000000     0.000000   \n",
       "25%          1.000000     0.000000         0.000000     0.000000   \n",
       "50%          1.000000     1.000000         0.000000     0.000000   \n",
       "75%          1.000000     1.000000         1.000000     0.000000   \n",
       "max          1.000000     1.000000         1.000000     1.000000   \n",
       "\n",
       "       Dinner Reviews  Delivery Reviews  AverageCost  \n",
       "count     8923.000000       8923.000000  8923.000000  \n",
       "mean       157.106018       2014.709403   340.225261  \n",
       "std        731.834227       5524.430542   308.338943  \n",
       "min          0.000000          0.000000    50.000000  \n",
       "25%          0.000000         42.000000   150.000000  \n",
       "50%          0.000000        279.000000   250.000000  \n",
       "75%         43.000000       1493.500000   400.000000  \n",
       "max      26500.000000      99600.000000  4200.000000  "
      ]
     },
     "execution_count": 29,
     "metadata": {},
     "output_type": "execute_result"
    }
   ],
   "source": [
    "zomatodata.describe()"
   ]
  },
  {
   "cell_type": "markdown",
   "id": "f9e68a97",
   "metadata": {},
   "source": [
    "### 1).Understanding the data with head"
   ]
  },
  {
   "cell_type": "code",
   "execution_count": 4,
   "id": "4c580565",
   "metadata": {},
   "outputs": [
    {
     "data": {
      "text/html": [
       "<div>\n",
       "<style scoped>\n",
       "    .dataframe tbody tr th:only-of-type {\n",
       "        vertical-align: middle;\n",
       "    }\n",
       "\n",
       "    .dataframe tbody tr th {\n",
       "        vertical-align: top;\n",
       "    }\n",
       "\n",
       "    .dataframe thead th {\n",
       "        text-align: right;\n",
       "    }\n",
       "</style>\n",
       "<table border=\"1\" class=\"dataframe\">\n",
       "  <thead>\n",
       "    <tr style=\"text-align: right;\">\n",
       "      <th></th>\n",
       "      <th>Name</th>\n",
       "      <th>URL</th>\n",
       "      <th>Cuisines</th>\n",
       "      <th>Area</th>\n",
       "      <th>Timing</th>\n",
       "      <th>Full_Address</th>\n",
       "      <th>PhoneNumber</th>\n",
       "      <th>IsHomeDelivery</th>\n",
       "      <th>isTakeaway</th>\n",
       "      <th>isIndoorSeating</th>\n",
       "      <th>isVegOnly</th>\n",
       "      <th>Dinner Ratings</th>\n",
       "      <th>Dinner Reviews</th>\n",
       "      <th>Delivery Ratings</th>\n",
       "      <th>Delivery Reviews</th>\n",
       "      <th>KnownFor</th>\n",
       "      <th>PopularDishes</th>\n",
       "      <th>PeopleKnownFor</th>\n",
       "      <th>AverageCost</th>\n",
       "    </tr>\n",
       "  </thead>\n",
       "  <tbody>\n",
       "    <tr>\n",
       "      <th>0</th>\n",
       "      <td>Sri Udupi Park</td>\n",
       "      <td>https://www.zomato.com/bangalore/sri-udupi-par...</td>\n",
       "      <td>South Indian, North Indian, Chinese, Street Fo...</td>\n",
       "      <td>Indiranagar, Bangalore</td>\n",
       "      <td>7am – 11pm (Today)</td>\n",
       "      <td>273, Monalisa, 6th Main, 100 Feet Road, Indira...</td>\n",
       "      <td>+919945977774</td>\n",
       "      <td>1</td>\n",
       "      <td>1</td>\n",
       "      <td>1</td>\n",
       "      <td>1</td>\n",
       "      <td>4.0</td>\n",
       "      <td>462</td>\n",
       "      <td>4.1</td>\n",
       "      <td>16000</td>\n",
       "      <td>NaN</td>\n",
       "      <td>Filtered Coffee, Sambhar, Pav Bhaji, Gobi Manc...</td>\n",
       "      <td>Economical, Prompt Service, Hygiene, Quality F...</td>\n",
       "      <td>450</td>\n",
       "    </tr>\n",
       "    <tr>\n",
       "      <th>1</th>\n",
       "      <td>Meghana Foods</td>\n",
       "      <td>https://www.zomato.com/bangalore/meghana-foods...</td>\n",
       "      <td>Biryani, Andhra, North Indian, Seafood</td>\n",
       "      <td>Indiranagar, Bangalore</td>\n",
       "      <td>Opens at 6:30pm</td>\n",
       "      <td>544, First Floor, CMH Road, Near Indiranagar M...</td>\n",
       "      <td>+918041135050</td>\n",
       "      <td>1</td>\n",
       "      <td>1</td>\n",
       "      <td>1</td>\n",
       "      <td>0</td>\n",
       "      <td>4.3</td>\n",
       "      <td>1654</td>\n",
       "      <td>4.3</td>\n",
       "      <td>28600</td>\n",
       "      <td>Spicy Chicken Biryani</td>\n",
       "      <td>Authentic Hyderabadi Biryani, Paneer Biryani, ...</td>\n",
       "      <td>Boneless Chicken Biryani, Ample Seating Area, ...</td>\n",
       "      <td>700</td>\n",
       "    </tr>\n",
       "    <tr>\n",
       "      <th>2</th>\n",
       "      <td>Donne Biriyani House</td>\n",
       "      <td>https://www.zomato.com/bangalore/donne-biriyan...</td>\n",
       "      <td>Biryani</td>\n",
       "      <td>Indiranagar, Bangalore</td>\n",
       "      <td>11am – 11pm (Today)</td>\n",
       "      <td>8/ 9, 17th F Cross, 2nd Stage, Indiranagar, Ba...</td>\n",
       "      <td>+918861564169</td>\n",
       "      <td>1</td>\n",
       "      <td>1</td>\n",
       "      <td>1</td>\n",
       "      <td>0</td>\n",
       "      <td>3.9</td>\n",
       "      <td>411</td>\n",
       "      <td>3.5</td>\n",
       "      <td>33200</td>\n",
       "      <td>NaN</td>\n",
       "      <td>NaN</td>\n",
       "      <td>Great Recommendations, Nice Taste, Great Ambia...</td>\n",
       "      <td>300</td>\n",
       "    </tr>\n",
       "    <tr>\n",
       "      <th>3</th>\n",
       "      <td>Domino's Pizza</td>\n",
       "      <td>https://www.zomato.com/bangalore/dominos-pizza...</td>\n",
       "      <td>Pizza, Fast Food, Desserts</td>\n",
       "      <td>Indiranagar, Bangalore</td>\n",
       "      <td>10:57am – 12midnight (Today)</td>\n",
       "      <td>308, 2nd Stage, 100 Feet Road, Indiranagar, Ba...</td>\n",
       "      <td>+919916465787</td>\n",
       "      <td>1</td>\n",
       "      <td>1</td>\n",
       "      <td>1</td>\n",
       "      <td>0</td>\n",
       "      <td>2.4</td>\n",
       "      <td>422</td>\n",
       "      <td>4.4</td>\n",
       "      <td>8205</td>\n",
       "      <td>NaN</td>\n",
       "      <td>Barbeque Chicken Pizza, Choco Lava Cake, White...</td>\n",
       "      <td>Value for Money, Packaging, Staff, Ambience, Food</td>\n",
       "      <td>400</td>\n",
       "    </tr>\n",
       "    <tr>\n",
       "      <th>4</th>\n",
       "      <td>KFC</td>\n",
       "      <td>https://www.zomato.com/bangalore/kfc-indiranagar</td>\n",
       "      <td>Burger, Fast Food, Biryani, Desserts, Beverages</td>\n",
       "      <td>Indiranagar, Bangalore</td>\n",
       "      <td>11am – 11pm (Today)</td>\n",
       "      <td>38/1A, CMH Road, Indiranagar, Bangalore</td>\n",
       "      <td>+919513700040</td>\n",
       "      <td>1</td>\n",
       "      <td>1</td>\n",
       "      <td>1</td>\n",
       "      <td>0</td>\n",
       "      <td>2.8</td>\n",
       "      <td>673</td>\n",
       "      <td>4.0</td>\n",
       "      <td>9148</td>\n",
       "      <td>NaN</td>\n",
       "      <td>Fiery Chicken, Chicken Popcorn, Rice Bowl, Wings</td>\n",
       "      <td>Elegantly Decorated, Great Recommendations, Vi...</td>\n",
       "      <td>400</td>\n",
       "    </tr>\n",
       "  </tbody>\n",
       "</table>\n",
       "</div>"
      ],
      "text/plain": [
       "                   Name                                                URL  \\\n",
       "0        Sri Udupi Park  https://www.zomato.com/bangalore/sri-udupi-par...   \n",
       "1         Meghana Foods  https://www.zomato.com/bangalore/meghana-foods...   \n",
       "2  Donne Biriyani House  https://www.zomato.com/bangalore/donne-biriyan...   \n",
       "3        Domino's Pizza  https://www.zomato.com/bangalore/dominos-pizza...   \n",
       "4                   KFC   https://www.zomato.com/bangalore/kfc-indiranagar   \n",
       "\n",
       "                                            Cuisines                    Area  \\\n",
       "0  South Indian, North Indian, Chinese, Street Fo...  Indiranagar, Bangalore   \n",
       "1             Biryani, Andhra, North Indian, Seafood  Indiranagar, Bangalore   \n",
       "2                                            Biryani  Indiranagar, Bangalore   \n",
       "3                         Pizza, Fast Food, Desserts  Indiranagar, Bangalore   \n",
       "4    Burger, Fast Food, Biryani, Desserts, Beverages  Indiranagar, Bangalore   \n",
       "\n",
       "                         Timing  \\\n",
       "0            7am – 11pm (Today)   \n",
       "1               Opens at 6:30pm   \n",
       "2           11am – 11pm (Today)   \n",
       "3  10:57am – 12midnight (Today)   \n",
       "4           11am – 11pm (Today)   \n",
       "\n",
       "                                        Full_Address    PhoneNumber  \\\n",
       "0  273, Monalisa, 6th Main, 100 Feet Road, Indira...  +919945977774   \n",
       "1  544, First Floor, CMH Road, Near Indiranagar M...  +918041135050   \n",
       "2  8/ 9, 17th F Cross, 2nd Stage, Indiranagar, Ba...  +918861564169   \n",
       "3  308, 2nd Stage, 100 Feet Road, Indiranagar, Ba...  +919916465787   \n",
       "4            38/1A, CMH Road, Indiranagar, Bangalore  +919513700040   \n",
       "\n",
       "   IsHomeDelivery  isTakeaway  isIndoorSeating  isVegOnly Dinner Ratings  \\\n",
       "0               1           1                1          1            4.0   \n",
       "1               1           1                1          0            4.3   \n",
       "2               1           1                1          0            3.9   \n",
       "3               1           1                1          0            2.4   \n",
       "4               1           1                1          0            2.8   \n",
       "\n",
       "   Dinner Reviews Delivery Ratings  Delivery Reviews               KnownFor  \\\n",
       "0             462              4.1             16000                    NaN   \n",
       "1            1654              4.3             28600  Spicy Chicken Biryani   \n",
       "2             411              3.5             33200                    NaN   \n",
       "3             422              4.4              8205                    NaN   \n",
       "4             673              4.0              9148                    NaN   \n",
       "\n",
       "                                       PopularDishes  \\\n",
       "0  Filtered Coffee, Sambhar, Pav Bhaji, Gobi Manc...   \n",
       "1  Authentic Hyderabadi Biryani, Paneer Biryani, ...   \n",
       "2                                                NaN   \n",
       "3  Barbeque Chicken Pizza, Choco Lava Cake, White...   \n",
       "4   Fiery Chicken, Chicken Popcorn, Rice Bowl, Wings   \n",
       "\n",
       "                                      PeopleKnownFor  AverageCost  \n",
       "0  Economical, Prompt Service, Hygiene, Quality F...          450  \n",
       "1  Boneless Chicken Biryani, Ample Seating Area, ...          700  \n",
       "2  Great Recommendations, Nice Taste, Great Ambia...          300  \n",
       "3  Value for Money, Packaging, Staff, Ambience, Food          400  \n",
       "4  Elegantly Decorated, Great Recommendations, Vi...          400  "
      ]
     },
     "execution_count": 4,
     "metadata": {},
     "output_type": "execute_result"
    }
   ],
   "source": [
    "zomatodata.head()"
   ]
  },
  {
   "cell_type": "markdown",
   "id": "55a03d10",
   "metadata": {},
   "source": [
    "### 2).understanding the tail of data"
   ]
  },
  {
   "cell_type": "code",
   "execution_count": 72,
   "id": "329a0701",
   "metadata": {},
   "outputs": [
    {
     "data": {
      "text/html": [
       "<div>\n",
       "<style scoped>\n",
       "    .dataframe tbody tr th:only-of-type {\n",
       "        vertical-align: middle;\n",
       "    }\n",
       "\n",
       "    .dataframe tbody tr th {\n",
       "        vertical-align: top;\n",
       "    }\n",
       "\n",
       "    .dataframe thead th {\n",
       "        text-align: right;\n",
       "    }\n",
       "</style>\n",
       "<table border=\"1\" class=\"dataframe\">\n",
       "  <thead>\n",
       "    <tr style=\"text-align: right;\">\n",
       "      <th></th>\n",
       "      <th>Name</th>\n",
       "      <th>URL</th>\n",
       "      <th>Cuisines</th>\n",
       "      <th>Area</th>\n",
       "      <th>Timing</th>\n",
       "      <th>Full_Address</th>\n",
       "      <th>PhoneNumber</th>\n",
       "      <th>IsHomeDelivery</th>\n",
       "      <th>isTakeaway</th>\n",
       "      <th>isIndoorSeating</th>\n",
       "      <th>isVegOnly</th>\n",
       "      <th>Dinner Ratings</th>\n",
       "      <th>Dinner Reviews</th>\n",
       "      <th>Delivery Ratings</th>\n",
       "      <th>Delivery Reviews</th>\n",
       "      <th>KnownFor</th>\n",
       "      <th>PopularDishes</th>\n",
       "      <th>PeopleKnownFor</th>\n",
       "      <th>AverageCost</th>\n",
       "      <th>count</th>\n",
       "    </tr>\n",
       "  </thead>\n",
       "  <tbody>\n",
       "    <tr>\n",
       "      <th>8918</th>\n",
       "      <td>New SBFC Food Funda</td>\n",
       "      <td>https://www.zomato.com/bangalore/new-sbfc-food...</td>\n",
       "      <td>Fast Food</td>\n",
       "      <td>Frazer Town, Bangalore</td>\n",
       "      <td>4:30pm – 11:45pm (Today)</td>\n",
       "      <td>667/1, 9th Cross, Periyan Nagar, Devara Jeevan...</td>\n",
       "      <td>+916291201792</td>\n",
       "      <td>1</td>\n",
       "      <td>1</td>\n",
       "      <td>1</td>\n",
       "      <td>0</td>\n",
       "      <td>3.7</td>\n",
       "      <td>14</td>\n",
       "      <td>4.0</td>\n",
       "      <td>48</td>\n",
       "      <td>NaN</td>\n",
       "      <td>NaN</td>\n",
       "      <td>Cheap and Affordable, Served Quickly, Fresh Fo...</td>\n",
       "      <td>300</td>\n",
       "      <td>1</td>\n",
       "    </tr>\n",
       "    <tr>\n",
       "      <th>8919</th>\n",
       "      <td>Kudla - Coraltree</td>\n",
       "      <td>https://www.zomato.com/bangalore/kudla-coraltr...</td>\n",
       "      <td>Seafood, Mangalorean, Beverages</td>\n",
       "      <td>Coraltree, RT Nagar, Bangalore</td>\n",
       "      <td>12noon – 10pm (Today)</td>\n",
       "      <td>Coraltree, 16, MLA Layout, RT Nagar Main Road,...</td>\n",
       "      <td>+917760978681</td>\n",
       "      <td>1</td>\n",
       "      <td>1</td>\n",
       "      <td>0</td>\n",
       "      <td>0</td>\n",
       "      <td>3.9</td>\n",
       "      <td>348</td>\n",
       "      <td>4.3</td>\n",
       "      <td>564</td>\n",
       "      <td>NaN</td>\n",
       "      <td>Neer Dosa, Chicken Ghee Roast, Seafood, Crab, ...</td>\n",
       "      <td>Authentic, Cashless Payments, Preparation, Dec...</td>\n",
       "      <td>1200</td>\n",
       "      <td>1</td>\n",
       "    </tr>\n",
       "    <tr>\n",
       "      <th>8920</th>\n",
       "      <td>Bangkok Bowl</td>\n",
       "      <td>https://www.zomato.com/bangalore/bangkok-bowl-...</td>\n",
       "      <td>Salad, Chinese</td>\n",
       "      <td>Kammanahalli, Bangalore</td>\n",
       "      <td>12noon – 3pm, 6:30pm – 10pm (Today)</td>\n",
       "      <td>403, 3A Cross, Mariayappa Road, Kammanahalli, ...</td>\n",
       "      <td>+919739999170</td>\n",
       "      <td>1</td>\n",
       "      <td>1</td>\n",
       "      <td>0</td>\n",
       "      <td>0</td>\n",
       "      <td>-</td>\n",
       "      <td>0</td>\n",
       "      <td>3.7</td>\n",
       "      <td>254</td>\n",
       "      <td>NaN</td>\n",
       "      <td>NaN</td>\n",
       "      <td>Contactless Delivery, Portion, Great Portions,...</td>\n",
       "      <td>300</td>\n",
       "      <td>1</td>\n",
       "    </tr>\n",
       "    <tr>\n",
       "      <th>8921</th>\n",
       "      <td>Yuan Restaurant</td>\n",
       "      <td>https://www.zomato.com/bangalore/yuan-restaura...</td>\n",
       "      <td>Thai, Chinese</td>\n",
       "      <td>HBR Layout, Bangalore</td>\n",
       "      <td>Opens at 7pm</td>\n",
       "      <td>2&amp;3, Renu Arcade, 1st Stage, 2nd Block, 80 Fee...</td>\n",
       "      <td>+919901047070</td>\n",
       "      <td>1</td>\n",
       "      <td>1</td>\n",
       "      <td>1</td>\n",
       "      <td>0</td>\n",
       "      <td>3.8</td>\n",
       "      <td>188</td>\n",
       "      <td>3.5</td>\n",
       "      <td>3169</td>\n",
       "      <td>NaN</td>\n",
       "      <td>NaN</td>\n",
       "      <td>Calm, Prompt Service, Portions, Spicy, Delicio...</td>\n",
       "      <td>400</td>\n",
       "      <td>1</td>\n",
       "    </tr>\n",
       "    <tr>\n",
       "      <th>8922</th>\n",
       "      <td>Amma's Biryani &amp; Rice</td>\n",
       "      <td>https://www.zomato.com/bangalore/ammas-biryani...</td>\n",
       "      <td>Biryani, Fast Food</td>\n",
       "      <td>Kammanahalli, Bangalore</td>\n",
       "      <td>11:30am – 11:30pm (Today)</td>\n",
       "      <td>21, Ground Floor, Praise The Lord Mansion, Neh...</td>\n",
       "      <td>+917349446837</td>\n",
       "      <td>1</td>\n",
       "      <td>1</td>\n",
       "      <td>1</td>\n",
       "      <td>0</td>\n",
       "      <td>3.9</td>\n",
       "      <td>6</td>\n",
       "      <td>-</td>\n",
       "      <td>18</td>\n",
       "      <td>NaN</td>\n",
       "      <td>NaN</td>\n",
       "      <td>NaN</td>\n",
       "      <td>300</td>\n",
       "      <td>1</td>\n",
       "    </tr>\n",
       "  </tbody>\n",
       "</table>\n",
       "</div>"
      ],
      "text/plain": [
       "                       Name  \\\n",
       "8918    New SBFC Food Funda   \n",
       "8919      Kudla - Coraltree   \n",
       "8920           Bangkok Bowl   \n",
       "8921        Yuan Restaurant   \n",
       "8922  Amma's Biryani & Rice   \n",
       "\n",
       "                                                    URL  \\\n",
       "8918  https://www.zomato.com/bangalore/new-sbfc-food...   \n",
       "8919  https://www.zomato.com/bangalore/kudla-coraltr...   \n",
       "8920  https://www.zomato.com/bangalore/bangkok-bowl-...   \n",
       "8921  https://www.zomato.com/bangalore/yuan-restaura...   \n",
       "8922  https://www.zomato.com/bangalore/ammas-biryani...   \n",
       "\n",
       "                             Cuisines                            Area  \\\n",
       "8918                        Fast Food          Frazer Town, Bangalore   \n",
       "8919  Seafood, Mangalorean, Beverages  Coraltree, RT Nagar, Bangalore   \n",
       "8920                   Salad, Chinese         Kammanahalli, Bangalore   \n",
       "8921                    Thai, Chinese           HBR Layout, Bangalore   \n",
       "8922               Biryani, Fast Food         Kammanahalli, Bangalore   \n",
       "\n",
       "                                   Timing  \\\n",
       "8918             4:30pm – 11:45pm (Today)   \n",
       "8919                12noon – 10pm (Today)   \n",
       "8920  12noon – 3pm, 6:30pm – 10pm (Today)   \n",
       "8921                         Opens at 7pm   \n",
       "8922            11:30am – 11:30pm (Today)   \n",
       "\n",
       "                                           Full_Address    PhoneNumber  \\\n",
       "8918  667/1, 9th Cross, Periyan Nagar, Devara Jeevan...  +916291201792   \n",
       "8919  Coraltree, 16, MLA Layout, RT Nagar Main Road,...  +917760978681   \n",
       "8920  403, 3A Cross, Mariayappa Road, Kammanahalli, ...  +919739999170   \n",
       "8921  2&3, Renu Arcade, 1st Stage, 2nd Block, 80 Fee...  +919901047070   \n",
       "8922  21, Ground Floor, Praise The Lord Mansion, Neh...  +917349446837   \n",
       "\n",
       "      IsHomeDelivery  isTakeaway  isIndoorSeating  isVegOnly Dinner Ratings  \\\n",
       "8918               1           1                1          0            3.7   \n",
       "8919               1           1                0          0            3.9   \n",
       "8920               1           1                0          0              -   \n",
       "8921               1           1                1          0            3.8   \n",
       "8922               1           1                1          0            3.9   \n",
       "\n",
       "      Dinner Reviews Delivery Ratings  Delivery Reviews KnownFor  \\\n",
       "8918              14              4.0                48      NaN   \n",
       "8919             348              4.3               564      NaN   \n",
       "8920               0              3.7               254      NaN   \n",
       "8921             188              3.5              3169      NaN   \n",
       "8922               6                -                18      NaN   \n",
       "\n",
       "                                          PopularDishes  \\\n",
       "8918                                                NaN   \n",
       "8919  Neer Dosa, Chicken Ghee Roast, Seafood, Crab, ...   \n",
       "8920                                                NaN   \n",
       "8921                                                NaN   \n",
       "8922                                                NaN   \n",
       "\n",
       "                                         PeopleKnownFor  AverageCost  count  \n",
       "8918  Cheap and Affordable, Served Quickly, Fresh Fo...          300      1  \n",
       "8919  Authentic, Cashless Payments, Preparation, Dec...         1200      1  \n",
       "8920  Contactless Delivery, Portion, Great Portions,...          300      1  \n",
       "8921  Calm, Prompt Service, Portions, Spicy, Delicio...          400      1  \n",
       "8922                                                NaN          300      1  "
      ]
     },
     "execution_count": 72,
     "metadata": {},
     "output_type": "execute_result"
    }
   ],
   "source": [
    "zomatodata.tail()"
   ]
  },
  {
   "cell_type": "markdown",
   "id": "62fab403",
   "metadata": {},
   "source": [
    "### 3).Datatype of every columns"
   ]
  },
  {
   "cell_type": "code",
   "execution_count": 73,
   "id": "13985c64",
   "metadata": {},
   "outputs": [
    {
     "data": {
      "text/plain": [
       "Name                object\n",
       "URL                 object\n",
       "Cuisines            object\n",
       "Area                object\n",
       "Timing              object\n",
       "Full_Address        object\n",
       "PhoneNumber         object\n",
       "IsHomeDelivery       int64\n",
       "isTakeaway           int64\n",
       "isIndoorSeating      int64\n",
       "isVegOnly            int64\n",
       "Dinner Ratings      object\n",
       "Dinner Reviews       int64\n",
       "Delivery Ratings    object\n",
       "Delivery Reviews     int64\n",
       "KnownFor            object\n",
       "PopularDishes       object\n",
       "PeopleKnownFor      object\n",
       "AverageCost          int64\n",
       "count                int64\n",
       "dtype: object"
      ]
     },
     "execution_count": 73,
     "metadata": {},
     "output_type": "execute_result"
    }
   ],
   "source": [
    "zomatodata.dtypes"
   ]
  },
  {
   "cell_type": "markdown",
   "id": "109df02b",
   "metadata": {},
   "source": [
    "### 4).Dataset shape[columns,rows]"
   ]
  },
  {
   "cell_type": "code",
   "execution_count": 74,
   "id": "a695866e",
   "metadata": {},
   "outputs": [
    {
     "data": {
      "text/plain": [
       "(8923, 20)"
      ]
     },
     "execution_count": 74,
     "metadata": {},
     "output_type": "execute_result"
    }
   ],
   "source": [
    "zomatodata.shape"
   ]
  },
  {
   "cell_type": "markdown",
   "id": "678e9c08",
   "metadata": {},
   "source": [
    "### 5).list of columns"
   ]
  },
  {
   "cell_type": "code",
   "execution_count": 75,
   "id": "26b4def3",
   "metadata": {},
   "outputs": [
    {
     "data": {
      "text/plain": [
       "Index(['Name', 'URL', 'Cuisines', 'Area', 'Timing', 'Full_Address',\n",
       "       'PhoneNumber', 'IsHomeDelivery', 'isTakeaway', 'isIndoorSeating',\n",
       "       'isVegOnly', 'Dinner Ratings', 'Dinner Reviews', 'Delivery Ratings',\n",
       "       'Delivery Reviews', 'KnownFor', 'PopularDishes', 'PeopleKnownFor',\n",
       "       'AverageCost', 'count'],\n",
       "      dtype='object')"
      ]
     },
     "execution_count": 75,
     "metadata": {},
     "output_type": "execute_result"
    }
   ],
   "source": [
    "zomatodata.columns"
   ]
  },
  {
   "cell_type": "markdown",
   "id": "81193f70",
   "metadata": {},
   "source": [
    "### 6).columns showing unique values"
   ]
  },
  {
   "cell_type": "code",
   "execution_count": 76,
   "id": "47c55ba4",
   "metadata": {},
   "outputs": [
    {
     "data": {
      "text/plain": [
       "Name                5242\n",
       "URL                 8923\n",
       "Cuisines            2939\n",
       "Area                 169\n",
       "Timing               993\n",
       "Full_Address        7887\n",
       "PhoneNumber         6333\n",
       "IsHomeDelivery         2\n",
       "isTakeaway             2\n",
       "isIndoorSeating        2\n",
       "isVegOnly              2\n",
       "Dinner Ratings        31\n",
       "Dinner Reviews       937\n",
       "Delivery Ratings      25\n",
       "Delivery Reviews    2923\n",
       "KnownFor             161\n",
       "PopularDishes       1535\n",
       "PeopleKnownFor      3424\n",
       "AverageCost           46\n",
       "count                  1\n",
       "dtype: int64"
      ]
     },
     "execution_count": 76,
     "metadata": {},
     "output_type": "execute_result"
    }
   ],
   "source": [
    "zomatodata.nunique()"
   ]
  },
  {
   "cell_type": "markdown",
   "id": "42c5c568",
   "metadata": {},
   "source": [
    "### 7).cleaning the data(is null and drop coulmn)"
   ]
  },
  {
   "cell_type": "code",
   "execution_count": 77,
   "id": "200d224a",
   "metadata": {},
   "outputs": [],
   "source": [
    "zomatodata.isnull().sum()\n",
    "if 'Timing' in zomatodata.columns:\n",
    "    zomatodata.drop('Timing', axis=1, inplace=True)"
   ]
  },
  {
   "cell_type": "code",
   "execution_count": 78,
   "id": "440bf43f",
   "metadata": {},
   "outputs": [
    {
     "data": {
      "text/plain": [
       "Name                   0\n",
       "URL                    0\n",
       "Cuisines               0\n",
       "Area                   0\n",
       "Full_Address           0\n",
       "PhoneNumber            0\n",
       "IsHomeDelivery         0\n",
       "isTakeaway             0\n",
       "isIndoorSeating        0\n",
       "isVegOnly              0\n",
       "Dinner Ratings         0\n",
       "Dinner Reviews         0\n",
       "Delivery Ratings       0\n",
       "Delivery Reviews       0\n",
       "KnownFor            8665\n",
       "PopularDishes       7388\n",
       "PeopleKnownFor      5439\n",
       "AverageCost            0\n",
       "count                  0\n",
       "dtype: int64"
      ]
     },
     "execution_count": 78,
     "metadata": {},
     "output_type": "execute_result"
    }
   ],
   "source": [
    "zomatodata.isnull().sum()"
   ]
  },
  {
   "cell_type": "markdown",
   "id": "8a007991",
   "metadata": {},
   "source": [
    "### 8).Bar chart to show the number of restaurants in each location"
   ]
  },
  {
   "cell_type": "code",
   "execution_count": 79,
   "id": "ebb4f1a6",
   "metadata": {},
   "outputs": [
    {
     "name": "stdout",
     "output_type": "stream",
     "text": [
      "Electronic City, Bangalore    674\n",
      "Marathahalli, Bangalore       484\n",
      "HSR, Bangalore                457\n",
      "Whitefield, Bangalore         447\n",
      "BTM, Bangalore                397\n",
      "Indiranagar, Bangalore        292\n",
      "JP Nagar, Bangalore           292\n",
      "Sarjapur Road, Bangalore      284\n",
      "Rajajinagar, Bangalore        237\n",
      "New BEL Road, Bangalore       232\n",
      "Name: Area, dtype: int64\n"
     ]
    }
   ],
   "source": [
    "Area_counts = zomatodata['Area'].value_counts().head(10)\n",
    "print(Area_counts)"
   ]
  },
  {
   "cell_type": "code",
   "execution_count": 80,
   "id": "76897b7d",
   "metadata": {},
   "outputs": [
    {
     "data": {
      "image/png": "[encoded data removed]",
      "text/plain": [
       "<Figure size 1000x400 with 1 Axes>"
      ]
     },
     "metadata": {},
     "output_type": "display_data"
    }
   ],
   "source": [
    "plt.figure(figsize=(10, 4))\n",
    "plt.bar(Area_counts.index, Area_counts.values)\n",
    "plt.xticks(rotation=90)\n",
    "plt.xlabel('Area')\n",
    "plt.ylabel('Number of Restaurants')\n",
    "plt.title('Number of Restaurants in Each Area')\n",
    "plt.ylim(0,1000)\n",
    "plt.text(0,Area_counts.values[0],'674',ha='center',va='bottom')\n",
    "plt.text(1,Area_counts.values[1],'484',ha='center',va='bottom')\n",
    "plt.text(2,Area_counts.values[2],'457',ha='center',va='bottom')\n",
    "plt.text(3,Area_counts.values[3],'447',ha='center',va='bottom')\n",
    "plt.text(4,Area_counts.values[4],'397',ha='center',va='bottom')\n",
    "plt.text(5,Area_counts.values[5],'292',ha='center',va='bottom')\n",
    "plt.text(6,Area_counts.values[6],'292',ha='center',va='bottom')\n",
    "plt.text(7,Area_counts.values[7],'284',ha='center',va='bottom')\n",
    "plt.text(8,Area_counts.values[8],'237',ha='center',va='bottom')\n",
    "plt.text(9,Area_counts.values[9],'232',ha='center',va='bottom')\n",
    "plt.show()"
   ]
  },
  {
   "cell_type": "markdown",
   "id": "3fdf5202",
   "metadata": {},
   "source": [
    "### 9).WE WILL COUNT THE NUMBER OF TIMES A RESTAURANT'S NAME HAS BEEN REPEATED"
   ]
  },
  {
   "cell_type": "code",
   "execution_count": 81,
   "id": "7128247a",
   "metadata": {},
   "outputs": [
    {
     "data": {
      "text/plain": [
       "Name\n",
       "Five Star Chicken                                   29\n",
       "Snack House                                         27\n",
       "Kwality Wall’s Frozen Dessert and Ice Cream Shop    27\n",
       "Momo Monk                                           25\n",
       "Lassi Shop                                          23\n",
       "Pizza Hut                                           23\n",
       "Name: count, dtype: int64"
      ]
     },
     "execution_count": 81,
     "metadata": {},
     "output_type": "execute_result"
    }
   ],
   "source": [
    "df=zomatodata\n",
    "df['count']=1\n",
    "a=df.groupby(['Name']).count()['count']\n",
    "\n",
    "#THEN WE WILL SORT IN DESCENDING ORDER AND SLICE THE TOP 5\n",
    "b=a.sort_values(ascending=False)\n",
    "most_branches=b[0:6]\n",
    "\n",
    "most_branches\n"
   ]
  },
  {
   "cell_type": "markdown",
   "id": "5eaf48cd",
   "metadata": {},
   "source": [
    "### 10).THIS IS A GRAPHICAL REPRESENTATION OF MOST BRANCHES"
   ]
  },
  {
   "cell_type": "code",
   "execution_count": 82,
   "id": "8cf66a6b",
   "metadata": {},
   "outputs": [
    {
     "data": {
      "image/png": "[encoded data removed]",
      "text/plain": [
       "<Figure size 1900x500 with 1 Axes>"
      ]
     },
     "metadata": {},
     "output_type": "display_data"
    }
   ],
   "source": [
    "f = plt.figure()\n",
    "f.set_figwidth(19)\n",
    "f.set_figheight(5)\n",
    "plt.plot(most_branches,color='orange',linewidth=3,marker=\"D\",markerfacecolor='black',markersize=8)\n",
    "plt.xlabel('Restaurant')\n",
    "plt.ylabel('No of branches')\n",
    "plt.title('Restaurants with most branches across city')\n",
    "plt.grid(axis='y')"
   ]
  },
  {
   "cell_type": "markdown",
   "id": "3727ff50",
   "metadata": {},
   "source": [
    "### 11).HERE I FILTERED THE RESTAURANTS BY TOP RATING AND CHEAP PRICE"
   ]
  },
  {
   "cell_type": "code",
   "execution_count": 83,
   "id": "1c078a80",
   "metadata": {},
   "outputs": [
    {
     "data": {
      "text/html": [
       "<div>\n",
       "<style scoped>\n",
       "    .dataframe tbody tr th:only-of-type {\n",
       "        vertical-align: middle;\n",
       "    }\n",
       "\n",
       "    .dataframe tbody tr th {\n",
       "        vertical-align: top;\n",
       "    }\n",
       "\n",
       "    .dataframe thead th {\n",
       "        text-align: right;\n",
       "    }\n",
       "</style>\n",
       "<table border=\"1\" class=\"dataframe\">\n",
       "  <thead>\n",
       "    <tr style=\"text-align: right;\">\n",
       "      <th></th>\n",
       "      <th>IsHomeDelivery</th>\n",
       "      <th>isTakeaway</th>\n",
       "      <th>isIndoorSeating</th>\n",
       "      <th>isVegOnly</th>\n",
       "      <th>Dinner Reviews</th>\n",
       "      <th>Delivery Reviews</th>\n",
       "      <th>AverageCost</th>\n",
       "      <th>count</th>\n",
       "      <th>total_rating</th>\n",
       "    </tr>\n",
       "    <tr>\n",
       "      <th>Name</th>\n",
       "      <th></th>\n",
       "      <th></th>\n",
       "      <th></th>\n",
       "      <th></th>\n",
       "      <th></th>\n",
       "      <th></th>\n",
       "      <th></th>\n",
       "      <th></th>\n",
       "      <th></th>\n",
       "    </tr>\n",
       "  </thead>\n",
       "  <tbody>\n",
       "    <tr>\n",
       "      <th>Brahmin's Coffee Bar</th>\n",
       "      <td>1.0</td>\n",
       "      <td>1.0</td>\n",
       "      <td>0.0</td>\n",
       "      <td>1.0</td>\n",
       "      <td>2976.0</td>\n",
       "      <td>3923.000000</td>\n",
       "      <td>100.0</td>\n",
       "      <td>1.0</td>\n",
       "      <td>9.4</td>\n",
       "    </tr>\n",
       "    <tr>\n",
       "      <th>CTR Shri Sagar</th>\n",
       "      <td>1.0</td>\n",
       "      <td>1.0</td>\n",
       "      <td>1.0</td>\n",
       "      <td>1.0</td>\n",
       "      <td>4869.0</td>\n",
       "      <td>27600.000000</td>\n",
       "      <td>150.0</td>\n",
       "      <td>1.0</td>\n",
       "      <td>9.3</td>\n",
       "    </tr>\n",
       "    <tr>\n",
       "      <th>Burma Burma</th>\n",
       "      <td>1.0</td>\n",
       "      <td>1.0</td>\n",
       "      <td>1.0</td>\n",
       "      <td>0.0</td>\n",
       "      <td>2899.0</td>\n",
       "      <td>1123.000000</td>\n",
       "      <td>1500.0</td>\n",
       "      <td>1.0</td>\n",
       "      <td>9.3</td>\n",
       "    </tr>\n",
       "    <tr>\n",
       "      <th>Bologna</th>\n",
       "      <td>1.0</td>\n",
       "      <td>1.0</td>\n",
       "      <td>1.0</td>\n",
       "      <td>0.0</td>\n",
       "      <td>1542.0</td>\n",
       "      <td>344.000000</td>\n",
       "      <td>1600.0</td>\n",
       "      <td>1.0</td>\n",
       "      <td>9.0</td>\n",
       "    </tr>\n",
       "    <tr>\n",
       "      <th>The Blue Wagon - Coffee &amp; Kitchen</th>\n",
       "      <td>1.0</td>\n",
       "      <td>1.0</td>\n",
       "      <td>1.0</td>\n",
       "      <td>0.0</td>\n",
       "      <td>370.0</td>\n",
       "      <td>244.000000</td>\n",
       "      <td>400.0</td>\n",
       "      <td>1.0</td>\n",
       "      <td>9.0</td>\n",
       "    </tr>\n",
       "    <tr>\n",
       "      <th>...</th>\n",
       "      <td>...</td>\n",
       "      <td>...</td>\n",
       "      <td>...</td>\n",
       "      <td>...</td>\n",
       "      <td>...</td>\n",
       "      <td>...</td>\n",
       "      <td>...</td>\n",
       "      <td>...</td>\n",
       "      <td>...</td>\n",
       "    </tr>\n",
       "    <tr>\n",
       "      <th>Zomoz - The Momo Company</th>\n",
       "      <td>1.0</td>\n",
       "      <td>0.0</td>\n",
       "      <td>0.0</td>\n",
       "      <td>0.0</td>\n",
       "      <td>0.0</td>\n",
       "      <td>497.727273</td>\n",
       "      <td>200.0</td>\n",
       "      <td>1.0</td>\n",
       "      <td>NaN</td>\n",
       "    </tr>\n",
       "    <tr>\n",
       "      <th>Zoya Kabab Centre</th>\n",
       "      <td>1.0</td>\n",
       "      <td>1.0</td>\n",
       "      <td>0.0</td>\n",
       "      <td>0.0</td>\n",
       "      <td>0.0</td>\n",
       "      <td>5.000000</td>\n",
       "      <td>200.0</td>\n",
       "      <td>1.0</td>\n",
       "      <td>NaN</td>\n",
       "    </tr>\n",
       "    <tr>\n",
       "      <th>Zwarma</th>\n",
       "      <td>1.0</td>\n",
       "      <td>1.0</td>\n",
       "      <td>0.0</td>\n",
       "      <td>0.0</td>\n",
       "      <td>2.0</td>\n",
       "      <td>67.000000</td>\n",
       "      <td>300.0</td>\n",
       "      <td>1.0</td>\n",
       "      <td>NaN</td>\n",
       "    </tr>\n",
       "    <tr>\n",
       "      <th>energii - Bowls, Salads &amp; Smoothies</th>\n",
       "      <td>1.0</td>\n",
       "      <td>0.0</td>\n",
       "      <td>0.0</td>\n",
       "      <td>0.0</td>\n",
       "      <td>0.0</td>\n",
       "      <td>63.000000</td>\n",
       "      <td>250.0</td>\n",
       "      <td>1.0</td>\n",
       "      <td>NaN</td>\n",
       "    </tr>\n",
       "    <tr>\n",
       "      <th>foodle</th>\n",
       "      <td>1.0</td>\n",
       "      <td>0.0</td>\n",
       "      <td>0.0</td>\n",
       "      <td>0.0</td>\n",
       "      <td>0.0</td>\n",
       "      <td>2.000000</td>\n",
       "      <td>150.0</td>\n",
       "      <td>1.0</td>\n",
       "      <td>NaN</td>\n",
       "    </tr>\n",
       "  </tbody>\n",
       "</table>\n",
       "<p>5242 rows × 9 columns</p>\n",
       "</div>"
      ],
      "text/plain": [
       "                                     IsHomeDelivery  isTakeaway  \\\n",
       "Name                                                              \n",
       "Brahmin's Coffee Bar                            1.0         1.0   \n",
       "CTR Shri Sagar                                  1.0         1.0   \n",
       "Burma Burma                                     1.0         1.0   \n",
       "Bologna                                         1.0         1.0   \n",
       "The Blue Wagon - Coffee & Kitchen               1.0         1.0   \n",
       "...                                             ...         ...   \n",
       "Zomoz - The Momo Company                        1.0         0.0   \n",
       "Zoya Kabab Centre                               1.0         1.0   \n",
       "Zwarma                                          1.0         1.0   \n",
       "energii - Bowls, Salads & Smoothies             1.0         0.0   \n",
       "foodle                                          1.0         0.0   \n",
       "\n",
       "                                     isIndoorSeating  isVegOnly  \\\n",
       "Name                                                              \n",
       "Brahmin's Coffee Bar                             0.0        1.0   \n",
       "CTR Shri Sagar                                   1.0        1.0   \n",
       "Burma Burma                                      1.0        0.0   \n",
       "Bologna                                          1.0        0.0   \n",
       "The Blue Wagon - Coffee & Kitchen                1.0        0.0   \n",
       "...                                              ...        ...   \n",
       "Zomoz - The Momo Company                         0.0        0.0   \n",
       "Zoya Kabab Centre                                0.0        0.0   \n",
       "Zwarma                                           0.0        0.0   \n",
       "energii - Bowls, Salads & Smoothies              0.0        0.0   \n",
       "foodle                                           0.0        0.0   \n",
       "\n",
       "                                     Dinner Reviews  Delivery Reviews  \\\n",
       "Name                                                                    \n",
       "Brahmin's Coffee Bar                         2976.0       3923.000000   \n",
       "CTR Shri Sagar                               4869.0      27600.000000   \n",
       "Burma Burma                                  2899.0       1123.000000   \n",
       "Bologna                                      1542.0        344.000000   \n",
       "The Blue Wagon - Coffee & Kitchen             370.0        244.000000   \n",
       "...                                             ...               ...   \n",
       "Zomoz - The Momo Company                        0.0        497.727273   \n",
       "Zoya Kabab Centre                               0.0          5.000000   \n",
       "Zwarma                                          2.0         67.000000   \n",
       "energii - Bowls, Salads & Smoothies             0.0         63.000000   \n",
       "foodle                                          0.0          2.000000   \n",
       "\n",
       "                                     AverageCost  count  total_rating  \n",
       "Name                                                                   \n",
       "Brahmin's Coffee Bar                       100.0    1.0           9.4  \n",
       "CTR Shri Sagar                             150.0    1.0           9.3  \n",
       "Burma Burma                               1500.0    1.0           9.3  \n",
       "Bologna                                   1600.0    1.0           9.0  \n",
       "The Blue Wagon - Coffee & Kitchen          400.0    1.0           9.0  \n",
       "...                                          ...    ...           ...  \n",
       "Zomoz - The Momo Company                   200.0    1.0           NaN  \n",
       "Zoya Kabab Centre                          200.0    1.0           NaN  \n",
       "Zwarma                                     300.0    1.0           NaN  \n",
       "energii - Bowls, Salads & Smoothies        250.0    1.0           NaN  \n",
       "foodle                                     150.0    1.0           NaN  \n",
       "\n",
       "[5242 rows x 9 columns]"
      ]
     },
     "execution_count": 83,
     "metadata": {},
     "output_type": "execute_result"
    }
   ],
   "source": [
    "df = df.replace('-', np.nan)\n",
    "df['total_rating']=df['Dinner Ratings'].astype(float)+df['Delivery Ratings'].astype(float)\n",
    "s=df['total_rating'].sort_values(ascending=False )\n",
    "e=s[0:6]\n",
    "k=df.groupby(['Name']).mean().sort_values('total_rating',ascending=False)\n",
    "k"
   ]
  },
  {
   "cell_type": "markdown",
   "id": "5b30c2cc",
   "metadata": {},
   "source": [
    "### 13-TOOK THE NAME OF RESTAURANT FOR BAR CHARD"
   ]
  },
  {
   "cell_type": "code",
   "execution_count": 84,
   "id": "86386bac",
   "metadata": {},
   "outputs": [
    {
     "data": {
      "image/png": "[encoded data removed]",
      "text/plain": [
       "<Figure size 640x480 with 1 Axes>"
      ]
     },
     "metadata": {},
     "output_type": "display_data"
    }
   ],
   "source": [
    "#slicing timeee\n",
    "price=k['AverageCost'][0:5]\n",
    "rating=k['total_rating'][0:5]\n",
    "res_name=['Brahmins Coffee Bar','CTR Shri Sagar','Burma Burma','The Blue Wagon - Coffee & Kitchen','Bologna']\n",
    "price=price.sort_values()\n",
    "plt.bar(res_name,rating)\n",
    "plt.plot(range(5))\n",
    "plt.ylim(8.5,9.45)\n",
    "plt.text(0,rating[0],'₹ 100',ha='center',va='bottom')\n",
    "plt.text(1,rating[1],'₹ 150',ha='center',va='bottom')\n",
    "plt.text(2,rating[2],'₹ 1500',ha='center',va='bottom')\n",
    "plt.text(3,rating[3],'₹ 400',ha='center',va='bottom')\n",
    "plt.text(4,rating[4],'₹ 1600',ha='center',va='bottom')\n",
    "plt.ylabel('RATING')\n",
    "\n",
    "\n",
    "plt.xticks(rotation=270)\n",
    "plt.show()"
   ]
  },
  {
   "cell_type": "markdown",
   "id": "9ae3928d",
   "metadata": {},
   "source": [
    "### 14-Most popular cuisines of Bangalore"
   ]
  },
  {
   "cell_type": "code",
   "execution_count": 91,
   "id": "6442bb69",
   "metadata": {},
   "outputs": [
    {
     "data": {
      "text/plain": [
       "South Indian             309\n",
       "North Indian             205\n",
       "Bakery, Desserts         196\n",
       "North Indian, Chinese    138\n",
       "Chinese                  115\n",
       "Biryani                  103\n",
       "Biryani, South Indian    102\n",
       "Bakery                    99\n",
       "Street Food               96\n",
       "Ice Cream                 84\n",
       "Name: Cuisines, dtype: int64"
      ]
     },
     "execution_count": 91,
     "metadata": {},
     "output_type": "execute_result"
    }
   ],
   "source": [
    "Cuisines = zomatodata['Cuisines'].value_counts()[:10]\n",
    "Cuisines"
   ]
  },
  {
   "cell_type": "code",
   "execution_count": 98,
   "id": "45b07b8d",
   "metadata": {},
   "outputs": [
    {
     "data": {
      "text/plain": [
       "Text(0.5, 1.0, 'Most popular cuisines of Bangalore')"
      ]
     },
     "execution_count": 98,
     "metadata": {},
     "output_type": "execute_result"
    },
    {
     "data": {
      "image/png": "[encoded data removed]",
      "text/plain": [
       "<Figure size 640x480 with 1 Axes>"
      ]
     },
     "metadata": {},
     "output_type": "display_data"
    }
   ],
   "source": [
    "Cuisines = zomatodata['Cuisines'].value_counts()[:10]\n",
    "sns.barplot(x = Cuisines,y =Cuisines.index)\n",
    "plt.xlabel('Count')\n",
    "plt.title(\"Most popular cuisines of Bangalore\")"
   ]
  }
 ],
 "metadata": {
  "kernelspec": {
   "display_name": "Python 3 (ipykernel)",
   "language": "python",
   "name": "python3"
  },
  "language_info": {
   "codemirror_mode": {
    "name": "ipython",
    "version": 3
   },
   "file_extension": ".py",
   "mimetype": "text/x-python",
   "name": "python",
   "nbconvert_exporter": "python",
   "pygments_lexer": "ipython3",
   "version": "3.9.13"
  }
 },
 "nbformat": 4,
 "nbformat_minor": 5
}
